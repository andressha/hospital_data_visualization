{
 "cells": [
  {
   "cell_type": "markdown",
   "metadata": {},
   "source": [
    "### Hospital Data Aggregation\n",
    "###### Chian-Heng Lee\n",
    "Oct. 10th, 2018"
   ]
  },
  {
   "cell_type": "markdown",
   "metadata": {},
   "source": [
    "The purpose of this notebook is to load the raw hospital data and aggregate the data into a python dictionary with each (key, value) pair corresponds to a specific bundle_id and a pandas dataframe with all rows of that bundle_id from the original table. Note that in the process, the measurement, enrol and indicator values are recalculated by combining data from different years (with the same bundle_id, sex and age_ihmec).\n",
    "\n",
    "To run this script, simply replace the input filename (first section) and the output file name (pickle section)."
   ]
  },
  {
   "cell_type": "code",
   "execution_count": 1,
   "metadata": {},
   "outputs": [
    {
     "data": {
      "text/html": [
       "<div>\n",
       "<style scoped>\n",
       "    .dataframe tbody tr th:only-of-type {\n",
       "        vertical-align: middle;\n",
       "    }\n",
       "\n",
       "    .dataframe tbody tr th {\n",
       "        vertical-align: top;\n",
       "    }\n",
       "\n",
       "    .dataframe thead th {\n",
       "        text-align: right;\n",
       "    }\n",
       "</style>\n",
       "<table border=\"1\" class=\"dataframe\">\n",
       "  <thead>\n",
       "    <tr style=\"text-align: right;\">\n",
       "      <th></th>\n",
       "      <th>year</th>\n",
       "      <th>sex</th>\n",
       "      <th>age_ihmec</th>\n",
       "      <th>facility</th>\n",
       "      <th>unit</th>\n",
       "      <th>measurement</th>\n",
       "      <th>enrol</th>\n",
       "      <th>indicator</th>\n",
       "      <th>bundle_id</th>\n",
       "    </tr>\n",
       "  </thead>\n",
       "  <tbody>\n",
       "    <tr>\n",
       "      <th>0</th>\n",
       "      <td>1979</td>\n",
       "      <td>1</td>\n",
       "      <td>029</td>\n",
       "      <td>2</td>\n",
       "      <td>person</td>\n",
       "      <td>1</td>\n",
       "      <td>879740.0</td>\n",
       "      <td>1.136699e-06</td>\n",
       "      <td>152</td>\n",
       "    </tr>\n",
       "    <tr>\n",
       "      <th>1</th>\n",
       "      <td>1983</td>\n",
       "      <td>1</td>\n",
       "      <td>039</td>\n",
       "      <td>2</td>\n",
       "      <td>person</td>\n",
       "      <td>1</td>\n",
       "      <td>1021572.0</td>\n",
       "      <td>9.788835e-07</td>\n",
       "      <td>152</td>\n",
       "    </tr>\n",
       "    <tr>\n",
       "      <th>2</th>\n",
       "      <td>1983</td>\n",
       "      <td>1</td>\n",
       "      <td>039</td>\n",
       "      <td>2</td>\n",
       "      <td>person</td>\n",
       "      <td>1</td>\n",
       "      <td>1021572.0</td>\n",
       "      <td>9.788835e-07</td>\n",
       "      <td>231</td>\n",
       "    </tr>\n",
       "    <tr>\n",
       "      <th>3</th>\n",
       "      <td>1983</td>\n",
       "      <td>1</td>\n",
       "      <td>039</td>\n",
       "      <td>2</td>\n",
       "      <td>person</td>\n",
       "      <td>1</td>\n",
       "      <td>1021572.0</td>\n",
       "      <td>9.788835e-07</td>\n",
       "      <td>242</td>\n",
       "    </tr>\n",
       "    <tr>\n",
       "      <th>4</th>\n",
       "      <td>1985</td>\n",
       "      <td>2</td>\n",
       "      <td>034</td>\n",
       "      <td>2</td>\n",
       "      <td>person</td>\n",
       "      <td>1</td>\n",
       "      <td>977286.0</td>\n",
       "      <td>1.023242e-06</td>\n",
       "      <td>152</td>\n",
       "    </tr>\n",
       "  </tbody>\n",
       "</table>\n",
       "</div>"
      ],
      "text/plain": [
       "   year sex age_ihmec facility    unit  measurement      enrol     indicator  bundle_id\n",
       "0  1979   1       029        2  person            1   879740.0  1.136699e-06        152\n",
       "1  1983   1       039        2  person            1  1021572.0  9.788835e-07        152\n",
       "2  1983   1       039        2  person            1  1021572.0  9.788835e-07        231\n",
       "3  1983   1       039        2  person            1  1021572.0  9.788835e-07        242\n",
       "4  1985   2       034        2  person            1   977286.0  1.023242e-06        152"
      ]
     },
     "execution_count": 1,
     "metadata": {},
     "output_type": "execute_result"
    }
   ],
   "source": [
    "import pandas as pd\n",
    "import numpy as np\n",
    "\n",
    "# set display width to 100 so the whole width can be displayed.\n",
    "pd.set_option('display.width', 100)\n",
    "\n",
    "# load data\n",
    "df = pd.read_stata('oip105_p.dta')\n",
    "\n",
    "df.head()"
   ]
  },
  {
   "cell_type": "code",
   "execution_count": 2,
   "metadata": {
    "scrolled": true
   },
   "outputs": [
    {
     "data": {
      "text/html": [
       "<div>\n",
       "<style scoped>\n",
       "    .dataframe tbody tr th:only-of-type {\n",
       "        vertical-align: middle;\n",
       "    }\n",
       "\n",
       "    .dataframe tbody tr th {\n",
       "        vertical-align: top;\n",
       "    }\n",
       "\n",
       "    .dataframe thead th {\n",
       "        text-align: right;\n",
       "    }\n",
       "</style>\n",
       "<table border=\"1\" class=\"dataframe\">\n",
       "  <thead>\n",
       "    <tr style=\"text-align: right;\">\n",
       "      <th></th>\n",
       "      <th>year</th>\n",
       "      <th>sex</th>\n",
       "      <th>age_ihmec</th>\n",
       "      <th>facility</th>\n",
       "      <th>unit</th>\n",
       "      <th>measurement</th>\n",
       "      <th>enrol</th>\n",
       "      <th>indicator</th>\n",
       "      <th>bundle_id</th>\n",
       "    </tr>\n",
       "  </thead>\n",
       "  <tbody>\n",
       "    <tr>\n",
       "      <th>11400</th>\n",
       "      <td>2016</td>\n",
       "      <td>1</td>\n",
       "      <td>000</td>\n",
       "      <td>2</td>\n",
       "      <td>person</td>\n",
       "      <td>15</td>\n",
       "      <td>100937.504824</td>\n",
       "      <td>0.000149</td>\n",
       "      <td>1</td>\n",
       "    </tr>\n",
       "    <tr>\n",
       "      <th>6972</th>\n",
       "      <td>2015</td>\n",
       "      <td>1</td>\n",
       "      <td>004</td>\n",
       "      <td>2</td>\n",
       "      <td>person</td>\n",
       "      <td>2</td>\n",
       "      <td>438434.495176</td>\n",
       "      <td>0.000005</td>\n",
       "      <td>1</td>\n",
       "    </tr>\n",
       "    <tr>\n",
       "      <th>11401</th>\n",
       "      <td>2016</td>\n",
       "      <td>1</td>\n",
       "      <td>004</td>\n",
       "      <td>2</td>\n",
       "      <td>person</td>\n",
       "      <td>55</td>\n",
       "      <td>438434.495176</td>\n",
       "      <td>0.000125</td>\n",
       "      <td>1</td>\n",
       "    </tr>\n",
       "    <tr>\n",
       "      <th>950</th>\n",
       "      <td>2006</td>\n",
       "      <td>1</td>\n",
       "      <td>009</td>\n",
       "      <td>2</td>\n",
       "      <td>person</td>\n",
       "      <td>1</td>\n",
       "      <td>495936.000000</td>\n",
       "      <td>0.000002</td>\n",
       "      <td>1</td>\n",
       "    </tr>\n",
       "    <tr>\n",
       "      <th>6973</th>\n",
       "      <td>2015</td>\n",
       "      <td>1</td>\n",
       "      <td>009</td>\n",
       "      <td>2</td>\n",
       "      <td>person</td>\n",
       "      <td>2</td>\n",
       "      <td>495936.000000</td>\n",
       "      <td>0.000004</td>\n",
       "      <td>1</td>\n",
       "    </tr>\n",
       "  </tbody>\n",
       "</table>\n",
       "</div>"
      ],
      "text/plain": [
       "       year sex age_ihmec facility    unit  measurement          enrol  indicator  bundle_id\n",
       "11400  2016   1       000        2  person           15  100937.504824   0.000149          1\n",
       "6972   2015   1       004        2  person            2  438434.495176   0.000005          1\n",
       "11401  2016   1       004        2  person           55  438434.495176   0.000125          1\n",
       "950    2006   1       009        2  person            1  495936.000000   0.000002          1\n",
       "6973   2015   1       009        2  person            2  495936.000000   0.000004          1"
      ]
     },
     "execution_count": 2,
     "metadata": {},
     "output_type": "execute_result"
    }
   ],
   "source": [
    "# sort the dataframe based on bundle ID, followed by sex and age\n",
    "df_sorted=df.sort_values(by=['bundle_id','sex','age_ihmec'])\n",
    "df_sorted.head()\n"
   ]
  },
  {
   "cell_type": "markdown",
   "metadata": {},
   "source": []
  },
  {
   "cell_type": "code",
   "execution_count": 3,
   "metadata": {},
   "outputs": [
    {
     "name": "stdout",
     "output_type": "stream",
     "text": [
      "[   1   27   50   61   64   78   80   82   92   93   94   95   99  104  113\n",
      "  115  119  122  125  126  127  128  129  130  131  140  141  142  145  146\n",
      "  147  148  149  150  151  152  153  155  156  157  158  159  160  161  162\n",
      "  163  164  165  166  167  168  173  174  175  176  182  198  199  201  202\n",
      "  203  204  206  207  208  209  211  212  213  214  215  216  217  218  219\n",
      "  220  231  232  236  237  238  239  240  241  242  243  245  246  248  250\n",
      "  255  257  258  261  262  263  277  283  291  292  293  338  345  354  355\n",
      "  374  396  409  429  435  436  437  438  439  440  449  456  458  500  502\n",
      "  542  543  544  545  546  547  548  602  604  606  608  610  612  614  616\n",
      "  618  620  622  624  626  628  630  632  634  636  638  686  687  899 1010\n",
      " 2972 2975 2978 2987 2990 2993 3008 3011 3029 3039 3053 3059 3065 3081 3082\n",
      " 3086 3119 3131 3134 3137 3140 3188 3198 3202 3227 3260]\n",
      "A total of 176 bundle IDs are in this dataset.\n",
      "\n",
      "['000' '004' '009' '014' '019' '024' '029' '034' '039' '044' '049' '054'\n",
      " '059' '064' '069' '074' '079' '084' '089' '094' '095']\n",
      "A total of 21 age groups are present in this dataset.\n"
     ]
    }
   ],
   "source": [
    "# Get a sense of some information\n",
    "\n",
    "# Get unique bundle IDs\n",
    "unique_bundleIDs = df_sorted.bundle_id.unique()\n",
    "print(unique_bundleIDs)\n",
    "\n",
    "print('A total of '+str(len(unique_bundleIDs))+' bundle IDs are in this dataset.')\n",
    "print('')\n",
    "\n",
    "# Get unique age groups\n",
    "unique_age_groups = df_sorted.age_ihmec.unique()\n",
    "print(unique_age_groups)\n",
    "print('A total of '+str(len(unique_age_groups))+' age groups are present in this dataset.')"
   ]
  },
  {
   "cell_type": "markdown",
   "metadata": {},
   "source": [
    "### Main loop to aggregate data and calculate desired values (indicators)"
   ]
  },
  {
   "cell_type": "code",
   "execution_count": 4,
   "metadata": {},
   "outputs": [
    {
     "name": "stdout",
     "output_type": "stream",
     "text": [
      "ID 1 has 42 rows.\n",
      "ID 27 has 42 rows.\n",
      "ID 50 has 42 rows.\n",
      "ID 61 has 7 rows.\n",
      "ID 64 has 42 rows.\n",
      "ID 78 has 18 rows.\n",
      "ID 80 has 9 rows.\n",
      "ID 82 has 20 rows.\n",
      "ID 92 has 21 rows.\n",
      "ID 93 has 42 rows.\n",
      "ID 94 has 35 rows.\n",
      "ID 95 has 37 rows.\n",
      "ID 99 has 42 rows.\n",
      "ID 104 has 32 rows.\n",
      "ID 113 has 42 rows.\n",
      "ID 115 has 41 rows.\n",
      "ID 119 has 42 rows.\n",
      "ID 122 has 42 rows.\n",
      "ID 125 has 23 rows.\n",
      "ID 126 has 28 rows.\n",
      "ID 127 has 36 rows.\n",
      "ID 128 has 36 rows.\n",
      "ID 129 has 42 rows.\n",
      "ID 130 has 42 rows.\n",
      "ID 131 has 42 rows.\n",
      "ID 140 has 42 rows.\n",
      "ID 141 has 42 rows.\n",
      "ID 142 has 42 rows.\n",
      "ID 145 has 42 rows.\n",
      "ID 146 has 42 rows.\n",
      "ID 147 has 38 rows.\n",
      "ID 148 has 37 rows.\n",
      "ID 149 has 41 rows.\n",
      "ID 150 has 42 rows.\n",
      "ID 151 has 41 rows.\n",
      "ID 152 has 36 rows.\n",
      "ID 153 has 39 rows.\n",
      "ID 155 has 39 rows.\n",
      "ID 156 has 20 rows.\n",
      "ID 157 has 36 rows.\n",
      "ID 158 has 20 rows.\n",
      "ID 159 has 38 rows.\n",
      "ID 160 has 40 rows.\n",
      "ID 161 has 38 rows.\n",
      "ID 162 has 42 rows.\n",
      "ID 163 has 40 rows.\n",
      "ID 164 has 33 rows.\n",
      "ID 165 has 40 rows.\n",
      "ID 166 has 37 rows.\n",
      "ID 167 has 38 rows.\n",
      "ID 168 has 42 rows.\n",
      "ID 173 has 42 rows.\n",
      "ID 174 has 39 rows.\n",
      "ID 175 has 39 rows.\n",
      "ID 176 has 42 rows.\n",
      "ID 182 has 42 rows.\n",
      "ID 198 has 17 rows.\n",
      "ID 199 has 20 rows.\n",
      "ID 201 has 16 rows.\n",
      "ID 202 has 17 rows.\n",
      "ID 203 has 18 rows.\n",
      "ID 204 has 16 rows.\n",
      "ID 206 has 40 rows.\n",
      "ID 207 has 22 rows.\n",
      "ID 208 has 23 rows.\n",
      "ID 209 has 38 rows.\n",
      "ID 211 has 9 rows.\n",
      "ID 212 has 41 rows.\n",
      "ID 213 has 42 rows.\n",
      "ID 214 has 41 rows.\n",
      "ID 215 has 42 rows.\n",
      "ID 216 has 42 rows.\n",
      "ID 217 has 42 rows.\n",
      "ID 218 has 42 rows.\n",
      "ID 219 has 41 rows.\n",
      "ID 220 has 42 rows.\n",
      "ID 231 has 42 rows.\n",
      "ID 232 has 42 rows.\n",
      "ID 236 has 42 rows.\n",
      "ID 237 has 42 rows.\n",
      "ID 238 has 42 rows.\n",
      "ID 239 has 40 rows.\n",
      "ID 240 has 42 rows.\n",
      "ID 241 has 41 rows.\n",
      "ID 242 has 42 rows.\n",
      "ID 243 has 42 rows.\n",
      "ID 245 has 42 rows.\n",
      "ID 246 has 42 rows.\n",
      "ID 248 has 42 rows.\n",
      "ID 250 has 42 rows.\n",
      "ID 255 has 42 rows.\n",
      "ID 257 has 42 rows.\n",
      "ID 258 has 42 rows.\n",
      "ID 261 has 42 rows.\n",
      "ID 262 has 42 rows.\n",
      "ID 263 has 42 rows.\n",
      "ID 277 has 42 rows.\n",
      "ID 283 has 42 rows.\n",
      "ID 291 has 41 rows.\n",
      "ID 292 has 19 rows.\n",
      "ID 293 has 9 rows.\n",
      "ID 338 has 17 rows.\n",
      "ID 345 has 42 rows.\n",
      "ID 354 has 42 rows.\n",
      "ID 355 has 42 rows.\n",
      "ID 374 has 42 rows.\n",
      "ID 396 has 39 rows.\n",
      "ID 409 has 42 rows.\n",
      "ID 429 has 42 rows.\n",
      "ID 435 has 38 rows.\n",
      "ID 436 has 30 rows.\n",
      "ID 437 has 25 rows.\n",
      "ID 438 has 21 rows.\n",
      "ID 439 has 40 rows.\n",
      "ID 440 has 42 rows.\n",
      "ID 449 has 40 rows.\n",
      "ID 456 has 42 rows.\n",
      "ID 458 has 14 rows.\n",
      "ID 500 has 26 rows.\n",
      "ID 502 has 20 rows.\n",
      "ID 542 has 42 rows.\n",
      "ID 543 has 42 rows.\n",
      "ID 544 has 42 rows.\n",
      "ID 545 has 42 rows.\n",
      "ID 546 has 42 rows.\n",
      "ID 547 has 42 rows.\n",
      "ID 548 has 42 rows.\n",
      "ID 602 has 42 rows.\n",
      "ID 604 has 40 rows.\n",
      "ID 606 has 33 rows.\n",
      "ID 608 has 41 rows.\n",
      "ID 610 has 23 rows.\n",
      "ID 612 has 41 rows.\n",
      "ID 614 has 39 rows.\n",
      "ID 616 has 40 rows.\n",
      "ID 618 has 26 rows.\n",
      "ID 620 has 42 rows.\n",
      "ID 622 has 37 rows.\n",
      "ID 624 has 26 rows.\n",
      "ID 626 has 39 rows.\n",
      "ID 628 has 42 rows.\n",
      "ID 630 has 28 rows.\n",
      "ID 632 has 42 rows.\n",
      "ID 634 has 41 rows.\n",
      "ID 636 has 40 rows.\n",
      "ID 638 has 26 rows.\n",
      "ID 686 has 42 rows.\n",
      "ID 687 has 42 rows.\n",
      "ID 899 has 42 rows.\n",
      "ID 1010 has 42 rows.\n",
      "ID 2972 has 42 rows.\n",
      "ID 2975 has 42 rows.\n",
      "ID 2978 has 42 rows.\n",
      "ID 2987 has 42 rows.\n",
      "ID 2990 has 42 rows.\n",
      "ID 2993 has 42 rows.\n",
      "ID 3008 has 42 rows.\n",
      "ID 3011 has 38 rows.\n",
      "ID 3029 has 40 rows.\n",
      "ID 3039 has 42 rows.\n",
      "ID 3053 has 42 rows.\n",
      "ID 3059 has 42 rows.\n",
      "ID 3065 has 38 rows.\n",
      "ID 3081 has 42 rows.\n",
      "ID 3082 has 42 rows.\n",
      "ID 3086 has 42 rows.\n",
      "ID 3119 has 18 rows.\n",
      "ID 3131 has 42 rows.\n",
      "ID 3134 has 42 rows.\n",
      "ID 3137 has 20 rows.\n",
      "ID 3140 has 42 rows.\n",
      "ID 3188 has 42 rows.\n",
      "ID 3198 has 42 rows.\n",
      "ID 3202 has 42 rows.\n",
      "ID 3227 has 42 rows.\n",
      "ID 3260 has 42 rows.\n",
      "Done.\n"
     ]
    }
   ],
   "source": [
    "## Get essential informations (unique values in each column) for the loop\n",
    "\n",
    "# Bundle IDs\n",
    "unique_bundleIDs = df_sorted.bundle_id.unique()\n",
    "\n",
    "# genders\n",
    "sex = df_sorted.sex.unique() # 1:male, 2:female\n",
    "\n",
    "# age groups\n",
    "age_groups = df_sorted.age_ihmec.unique()\n",
    "#all_age_groups = ['000','004','009','014','019','024','029','034','039','044','049','054','059','064','069','074','079','084','089','094','095']\n",
    "\n",
    "\n",
    "## Now we want to look into the raw dataframe and put the data into different (smaller) dataframes \n",
    "## with each corresponds to a bundle_id. \n",
    "## The new dataframes will be put in a dictionary\n",
    "\n",
    "dict_of_bundleID_dataframes = {} # create empty dictionary\n",
    "\n",
    "# loop\n",
    "for ID in unique_bundleIDs:\n",
    "    i=0\n",
    "    #j=0\n",
    "    dummy_list=[] # use this to get new calculated and aggregated data (a list of lists) to later put into a dataframe\n",
    "    for s in sex:\n",
    "        for age in age_groups:\n",
    "            try:\n",
    "                \n",
    "                temp_df = df_sorted.loc[(df_sorted[\"bundle_id\"]==ID) & (df_sorted[\"sex\"] == s) & (df_sorted[\"age_ihmec\"]==age)]\n",
    "                temp_meas_sum = temp_df['measurement'].sum()\n",
    "                temp_enrol = list(temp_df['enrol'])[0]\n",
    "                temp_indicator = temp_meas_sum/temp_enrol\n",
    "                i=i+1\n",
    "                \n",
    "                dummy_list.append([ID,s,age,temp_meas_sum,temp_enrol_sum,temp_indicator])\n",
    "            except:\n",
    "                pass\n",
    "                #j=j+1\n",
    "    \n",
    "    dict_of_bundleID_dataframes[ID] = pd.DataFrame(\n",
    "                                        data=dummy_list,\n",
    "                                        columns=['bundle_id', 'sex', 'age_group', 'measurement', 'enrol','indicator'])\n",
    "    print('ID '+str(ID)+' has '+str(i)+' rows.')\n",
    "    #print('j='+str(j))\n",
    "\n",
    "print('Done.')"
   ]
  },
  {
   "cell_type": "markdown",
   "metadata": {},
   "source": [
    "### Now that a new dictionary of dataframes (based on bundle IDs) are created, let's take a look at some of the info"
   ]
  },
  {
   "cell_type": "code",
   "execution_count": 5,
   "metadata": {
    "scrolled": true
   },
   "outputs": [
    {
     "name": "stdout",
     "output_type": "stream",
     "text": [
      "dict_keys([1, 27, 50, 61, 64, 78, 80, 82, 92, 93, 94, 95, 99, 104, 113, 115, 119, 122, 125, 126, 127, 128, 129, 130, 131, 140, 141, 142, 145, 146, 147, 148, 149, 150, 151, 152, 153, 155, 156, 157, 158, 159, 160, 161, 162, 163, 164, 165, 166, 167, 168, 173, 174, 175, 176, 182, 198, 199, 201, 202, 203, 204, 206, 207, 208, 209, 211, 212, 213, 214, 215, 216, 217, 218, 219, 220, 231, 232, 236, 237, 238, 239, 240, 241, 242, 243, 245, 246, 248, 250, 255, 257, 258, 261, 262, 263, 277, 283, 291, 292, 293, 338, 345, 354, 355, 374, 396, 409, 429, 435, 436, 437, 438, 439, 440, 449, 456, 458, 500, 502, 542, 543, 544, 545, 546, 547, 548, 602, 604, 606, 608, 610, 612, 614, 616, 618, 620, 622, 624, 626, 628, 630, 632, 634, 636, 638, 686, 687, 899, 1010, 2972, 2975, 2978, 2987, 2990, 2993, 3008, 3011, 3029, 3039, 3053, 3059, 3065, 3081, 3082, 3086, 3119, 3131, 3134, 3137, 3140, 3188, 3198, 3202, 3227, 3260])\n",
      "Above are the bundle IDs present in this dataset.\n"
     ]
    }
   ],
   "source": [
    "# Show the all the bundle IDs \n",
    "print(dict_of_bundleID_dataframes.keys())\n",
    "print('Above are the bundle IDs present in this dataset.')"
   ]
  },
  {
   "cell_type": "markdown",
   "metadata": {},
   "source": [
    "### Save the dictionary into a pickle file\n",
    "#### The output pickle file is to be used in the Dash script for data visualization."
   ]
  },
  {
   "cell_type": "code",
   "execution_count": 6,
   "metadata": {},
   "outputs": [],
   "source": [
    "import pickle\n",
    "#ip105_i.dta\n",
    "pickling_on = open(\"oip105_p_processed.pickle\",\"wb\")\n",
    "pickle.dump(dict_of_bundleID_dataframes,pickling_on)\n",
    "pickling_on.close()\n",
    "\n",
    "pickle_off = open(\"oip105_p_processed.pickle\",\"rb\")\n",
    "dicttt = pickle.load(pickle_off)\n",
    "pickle_off.close()\n",
    "\n"
   ]
  },
  {
   "cell_type": "markdown",
   "metadata": {},
   "source": [
    "dicttt is the new loaded dictionary with the nested dataframes (pickle off from file)"
   ]
  },
  {
   "cell_type": "code",
   "execution_count": 7,
   "metadata": {},
   "outputs": [
    {
     "data": {
      "text/plain": [
       "\"\\nfiltered_data=dicttt[27][dicttt[1]['sex']=='1']\\n\\n\\nsorted_filtered_data = [(aaa,vvv) for aaa,vvv in zip(filtered_data['age_group'],filtered_data['indicator'])]\\nsorted_filtered_data\\n\""
      ]
     },
     "execution_count": 7,
     "metadata": {},
     "output_type": "execute_result"
    }
   ],
   "source": [
    "'''\n",
    "filtered_data=dicttt[27][dicttt[1]['sex']=='1']\n",
    "\n",
    "\n",
    "sorted_filtered_data = [(aaa,vvv) for aaa,vvv in zip(filtered_data['age_group'],filtered_data['indicator'])]\n",
    "sorted_filtered_data\n",
    "'''"
   ]
  },
  {
   "cell_type": "markdown",
   "metadata": {},
   "source": [
    "#### This script ends here...\n",
    "###### Below are some test code I tried for this script. Some may be useful in the future to get something to work quick."
   ]
  },
  {
   "cell_type": "code",
   "execution_count": 8,
   "metadata": {},
   "outputs": [
    {
     "data": {
      "text/html": [
       "<div>\n",
       "<style scoped>\n",
       "    .dataframe tbody tr th:only-of-type {\n",
       "        vertical-align: middle;\n",
       "    }\n",
       "\n",
       "    .dataframe tbody tr th {\n",
       "        vertical-align: top;\n",
       "    }\n",
       "\n",
       "    .dataframe thead th {\n",
       "        text-align: right;\n",
       "    }\n",
       "</style>\n",
       "<table border=\"1\" class=\"dataframe\">\n",
       "  <thead>\n",
       "    <tr style=\"text-align: right;\">\n",
       "      <th></th>\n",
       "      <th>bundle_id</th>\n",
       "      <th>sex</th>\n",
       "      <th>age_group</th>\n",
       "      <th>measurement</th>\n",
       "      <th>enrol</th>\n",
       "      <th>indicator</th>\n",
       "    </tr>\n",
       "  </thead>\n",
       "  <tbody>\n",
       "  </tbody>\n",
       "</table>\n",
       "</div>"
      ],
      "text/plain": [
       "Empty DataFrame\n",
       "Columns: [bundle_id, sex, age_group, measurement, enrol, indicator]\n",
       "Index: []"
      ]
     },
     "execution_count": 8,
     "metadata": {},
     "output_type": "execute_result"
    }
   ],
   "source": [
    "#dicttt[27][dicttt[27]['age_group']=='000']\n",
    "#dicttt[27].loc[(df_sorted[\"sex\"] == s) & (df_sorted[\"age_ihmec\"]==age)]\n",
    "dicttt[27].loc[(dicttt[27]['age_group']=='000')]\n",
    "#df_sorted.loc[(df_sorted[\"bundle_id\"]==ID) & (df_sorted[\"sex\"] == s) & (df_sorted[\"age_ihmec\"]==age)]"
   ]
  },
  {
   "cell_type": "code",
   "execution_count": 9,
   "metadata": {},
   "outputs": [
    {
     "data": {
      "text/plain": [
       "0    30\n",
       "1    30\n",
       "Name: indicator, dtype: int64"
      ]
     },
     "execution_count": 9,
     "metadata": {},
     "output_type": "execute_result"
    }
   ],
   "source": [
    "aa=['1','2','3','4','5']\n",
    "\n",
    "df3=dicttt[1].loc[dicttt[1]['sex']=='1']\n",
    "\n",
    "#df3['age_group'][0] == '000'\n",
    "df3.head()\n",
    "\n",
    "ddd=[[99,'3','9999',10,20,30],[99,'3','9999',10,20,30]]\n",
    "df4=pd.DataFrame(data=ddd,\n",
    "                 columns=['bundle_id', 'sex', 'age_group', 'measurement', 'enrol','indicator'])\n",
    "df3.append(df4,ignore_index=True)\n",
    "\n",
    "df4['indicator']"
   ]
  },
  {
   "cell_type": "code",
   "execution_count": 10,
   "metadata": {},
   "outputs": [
    {
     "data": {
      "text/html": [
       "<div>\n",
       "<style scoped>\n",
       "    .dataframe tbody tr th:only-of-type {\n",
       "        vertical-align: middle;\n",
       "    }\n",
       "\n",
       "    .dataframe tbody tr th {\n",
       "        vertical-align: top;\n",
       "    }\n",
       "\n",
       "    .dataframe thead th {\n",
       "        text-align: right;\n",
       "    }\n",
       "</style>\n",
       "<table border=\"1\" class=\"dataframe\">\n",
       "  <thead>\n",
       "    <tr style=\"text-align: right;\">\n",
       "      <th></th>\n",
       "      <th>bundle_id</th>\n",
       "      <th>sex</th>\n",
       "      <th>age_group</th>\n",
       "      <th>measurement</th>\n",
       "      <th>enrol</th>\n",
       "      <th>indicator</th>\n",
       "    </tr>\n",
       "  </thead>\n",
       "  <tbody>\n",
       "    <tr>\n",
       "      <th>0</th>\n",
       "      <td>3</td>\n",
       "      <td>1</td>\n",
       "      <td>044</td>\n",
       "      <td>100</td>\n",
       "      <td>5000</td>\n",
       "      <td>0.0200</td>\n",
       "    </tr>\n",
       "    <tr>\n",
       "      <th>1</th>\n",
       "      <td>4</td>\n",
       "      <td>2</td>\n",
       "      <td>024</td>\n",
       "      <td>90</td>\n",
       "      <td>4000</td>\n",
       "      <td>0.0225</td>\n",
       "    </tr>\n",
       "  </tbody>\n",
       "</table>\n",
       "</div>"
      ],
      "text/plain": [
       "  bundle_id sex age_group measurement enrol  indicator\n",
       "0         3   1       044         100  5000     0.0200\n",
       "1         4   2       024          90  4000     0.0225"
      ]
     },
     "execution_count": 10,
     "metadata": {},
     "output_type": "execute_result"
    }
   ],
   "source": [
    "a=pd.DataFrame(columns=['bundle_id', 'sex', 'age_group', 'measurement', 'enrol','indicator'])\n",
    "b=a.append({'bundle_id': 3,'sex':1,'age_group':'044','measurement':100,'enrol':5000,'indicator':100/5000}, ignore_index=True)\n",
    "\n",
    "c=b.append({'bundle_id': 4,'sex':2,'age_group':'024','measurement':90,'enrol':4000,'indicator':90/4000}, ignore_index=True)\n",
    "c"
   ]
  },
  {
   "cell_type": "code",
   "execution_count": 11,
   "metadata": {},
   "outputs": [
    {
     "data": {
      "text/html": [
       "<div>\n",
       "<style scoped>\n",
       "    .dataframe tbody tr th:only-of-type {\n",
       "        vertical-align: middle;\n",
       "    }\n",
       "\n",
       "    .dataframe tbody tr th {\n",
       "        vertical-align: top;\n",
       "    }\n",
       "\n",
       "    .dataframe thead th {\n",
       "        text-align: right;\n",
       "    }\n",
       "</style>\n",
       "<table border=\"1\" class=\"dataframe\">\n",
       "  <thead>\n",
       "    <tr style=\"text-align: right;\">\n",
       "      <th></th>\n",
       "      <th>bundle_id</th>\n",
       "      <th>sex</th>\n",
       "      <th>age_group</th>\n",
       "      <th>measurement</th>\n",
       "      <th>enrol</th>\n",
       "      <th>indicator</th>\n",
       "    </tr>\n",
       "  </thead>\n",
       "  <tbody>\n",
       "    <tr>\n",
       "      <th>0</th>\n",
       "      <td>3</td>\n",
       "      <td>1</td>\n",
       "      <td>044</td>\n",
       "      <td>100</td>\n",
       "      <td>5000</td>\n",
       "      <td>0.02</td>\n",
       "    </tr>\n",
       "  </tbody>\n",
       "</table>\n",
       "</div>"
      ],
      "text/plain": [
       "  bundle_id sex age_group measurement enrol  indicator\n",
       "0         3   1       044         100  5000       0.02"
      ]
     },
     "execution_count": 11,
     "metadata": {},
     "output_type": "execute_result"
    }
   ],
   "source": [
    "#c[c['bundle_id']==3]\n",
    "d=c.loc[(c[\"bundle_id\"]==3) & (c[\"sex\"] == 1) & (c[\"age_group\"]=='044')]\n",
    "d"
   ]
  },
  {
   "cell_type": "code",
   "execution_count": 12,
   "metadata": {},
   "outputs": [
    {
     "name": "stdout",
     "output_type": "stream",
     "text": [
      "[[1, 1, 1], [2, 4, 8], [3, 9, 27]]\n"
     ]
    }
   ],
   "source": [
    "rows=[]\n",
    "for i in [1,2,3]:\n",
    "    temp=[i,i**2,i**3]\n",
    "    rows.append(temp)\n",
    "    \n",
    "print(rows)"
   ]
  },
  {
   "cell_type": "code",
   "execution_count": null,
   "metadata": {
    "collapsed": true
   },
   "outputs": [],
   "source": []
  },
  {
   "cell_type": "code",
   "execution_count": 13,
   "metadata": {},
   "outputs": [
    {
     "name": "stdout",
     "output_type": "stream",
     "text": [
      "5\n",
      "0\n",
      "6\n",
      "1\n",
      "7\n",
      "2\n",
      "8\n",
      "3\n",
      "9\n",
      "4\n"
     ]
    }
   ],
   "source": [
    "filenames=['5','6','7','8','9']\n",
    "\n",
    "for i,filename in zip(range(len(filenames)),filenames):\n",
    "    \n",
    "    print(filename)\n",
    "    print(i)\n",
    "    "
   ]
  },
  {
   "cell_type": "code",
   "execution_count": 14,
   "metadata": {},
   "outputs": [
    {
     "name": "stdout",
     "output_type": "stream",
     "text": [
      "[[3, 14, 17, 18, 19, 25, 26, 28, 44, 45, 46, 47, 49, 60, 74, 75, 76, 77, 79, 96, 97, 98, 114, 116, 118, 121, 138, 139, 143, 144, 181, 195, 196, 233, 234, 235, 244, 271, 278, 294, 327, 333, 334, 336, 366, 367, 370, 422, 423, 453, 454, 455, 484, 541, 646, 661, 662, 663, 664, 667, 695, 696, 833, 1013, 2996, 3020, 3023, 3044, 3074, 3196, 3197, 3200, 3201, 3263], [1, 27, 50, 64, 78, 80, 82, 92, 93, 94, 95, 99, 104, 113, 115, 119, 122, 125, 126, 127, 128, 129, 130, 131, 140, 141, 142, 145, 146, 147, 148, 149, 150, 151, 152, 153, 155, 156, 157, 158, 159, 160, 161, 162, 163, 164, 165, 166, 167, 168, 173, 174, 175, 176, 182, 198, 199, 201, 202, 203, 204, 206, 207, 209, 212, 213, 214, 215, 216, 217, 218, 219, 220, 231, 232, 236, 237, 238, 239, 240, 241, 242, 243, 245, 246, 248, 250, 255, 257, 258, 261, 262, 263, 277, 283, 291, 292, 293, 338, 345, 354, 355, 374, 396, 409, 429, 435, 436, 437, 438, 439, 440, 449, 456, 458, 500, 502, 542, 543, 544, 545, 546, 547, 548, 602, 604, 606, 608, 610, 612, 614, 616, 618, 620, 622, 624, 626, 628, 630, 632, 634, 636, 638, 686, 687, 899, 1010, 2972, 2975, 2978, 2987, 2990, 2993, 3008, 3011, 3029, 3039, 3053, 3059, 3065, 3081, 3082, 3086, 3119, 3131, 3134, 3137, 3140, 3188, 3198, 3202, 3227, 3260], [3, 14, 17, 18, 19, 25, 26, 28, 44, 45, 46, 47, 49, 54, 60, 74, 75, 76, 77, 79, 96, 97, 98, 114, 116, 118, 121, 138, 139, 143, 144, 181, 195, 196, 233, 234, 235, 244, 265, 271, 278, 294, 327, 333, 334, 336, 356, 357, 358, 359, 360, 366, 367, 370, 422, 423, 453, 454, 455, 484, 541, 646, 661, 662, 663, 664, 667, 695, 696, 833, 1013, 2996, 3020, 3023, 3044, 3074, 3196, 3197, 3200, 3201, 3263], [1, 27, 50, 61, 64, 78, 80, 82, 92, 93, 94, 95, 99, 104, 113, 115, 119, 122, 125, 126, 127, 128, 129, 130, 131, 140, 141, 142, 145, 146, 147, 148, 149, 150, 151, 152, 153, 155, 156, 157, 158, 159, 160, 161, 162, 163, 164, 165, 166, 167, 168, 173, 174, 175, 176, 182, 198, 199, 201, 202, 203, 204, 206, 207, 208, 209, 211, 212, 213, 214, 215, 216, 217, 218, 219, 220, 231, 232, 236, 237, 238, 239, 240, 241, 242, 243, 245, 246, 248, 250, 255, 257, 258, 261, 262, 263, 277, 283, 291, 292, 293, 338, 345, 354, 355, 374, 396, 409, 429, 435, 436, 437, 438, 439, 440, 449, 456, 458, 500, 502, 542, 543, 544, 545, 546, 547, 548, 602, 604, 606, 608, 610, 612, 614, 616, 618, 620, 622, 624, 626, 628, 630, 632, 634, 636, 638, 686, 687, 899, 1010, 2972, 2975, 2978, 2987, 2990, 2993, 3008, 3011, 3029, 3039, 3053, 3059, 3065, 3081, 3082, 3086, 3119, 3131, 3134, 3137, 3140, 3188, 3198, 3202, 3227, 3260]]\n"
     ]
    }
   ],
   "source": [
    "file_names = ['ip105_i_processed.pickle',\n",
    "\t\t\t  'ip105_p_processed.pickle',\n",
    "\t\t\t  'oip105_i_processed.pickle',\n",
    "\t\t\t  'oip105_p_processed.pickle']\n",
    "\n",
    "all_data = {}\n",
    "temp_bundle_ids=[]\n",
    "for i,filename in zip(range(len(file_names)),file_names):\n",
    "\n",
    "    pickling_off = open(filename,'rb')\n",
    "\n",
    "    temp_file = pickle.load(pickling_off)\n",
    "\n",
    "    temp_bundle_ids.append(list(temp_file.keys()))\n",
    "    all_data[i] = temp_file # put into a big dictionary\n",
    "\n",
    "    pickling_off.close()\n",
    "    \n",
    "print(temp_bundle_ids)"
   ]
  },
  {
   "cell_type": "code",
   "execution_count": 15,
   "metadata": {},
   "outputs": [
    {
     "data": {
      "text/plain": [
       "257"
      ]
     },
     "execution_count": 15,
     "metadata": {},
     "output_type": "execute_result"
    }
   ],
   "source": [
    "flat_list = np.unique(np.array([item for sublist in temp_bundle_ids for item in sublist]))\n",
    "len(flat_list)\n",
    "\n"
   ]
  },
  {
   "cell_type": "code",
   "execution_count": 16,
   "metadata": {},
   "outputs": [
    {
     "data": {
      "text/plain": [
       "[{'label': 'Male', 'value': 'Male'}, {'label': 'Female', 'value': 'Female'}]"
      ]
     },
     "execution_count": 16,
     "metadata": {},
     "output_type": "execute_result"
    }
   ],
   "source": [
    "gender_options = []\n",
    "for g in ['Male','Female']:\n",
    "    gender_options.append({'label':'{}'.format(g), 'value':g})\n",
    "\n",
    "gender_options"
   ]
  },
  {
   "cell_type": "code",
   "execution_count": 17,
   "metadata": {},
   "outputs": [
    {
     "data": {
      "text/plain": [
       "[0, 1, 2, 3]"
      ]
     },
     "execution_count": 17,
     "metadata": {},
     "output_type": "execute_result"
    }
   ],
   "source": [
    "list(range(len(all_data)))"
   ]
  },
  {
   "cell_type": "code",
   "execution_count": 18,
   "metadata": {},
   "outputs": [
    {
     "data": {
      "text/plain": [
       "21"
      ]
     },
     "execution_count": 18,
     "metadata": {},
     "output_type": "execute_result"
    }
   ],
   "source": [
    "all_age_groups = ['000','004','009','014','019','024','029','034','039','044','049','054','059','064','069','074','079','084','089','094','095']\n",
    "len(all_age_groups)"
   ]
  },
  {
   "cell_type": "code",
   "execution_count": 19,
   "metadata": {},
   "outputs": [
    {
     "data": {
      "text/html": [
       "<div>\n",
       "<style scoped>\n",
       "    .dataframe tbody tr th:only-of-type {\n",
       "        vertical-align: middle;\n",
       "    }\n",
       "\n",
       "    .dataframe tbody tr th {\n",
       "        vertical-align: top;\n",
       "    }\n",
       "\n",
       "    .dataframe thead th {\n",
       "        text-align: right;\n",
       "    }\n",
       "</style>\n",
       "<table border=\"1\" class=\"dataframe\">\n",
       "  <thead>\n",
       "    <tr style=\"text-align: right;\">\n",
       "      <th></th>\n",
       "      <th>bundle_id</th>\n",
       "      <th>sex</th>\n",
       "      <th>age_group</th>\n",
       "    </tr>\n",
       "  </thead>\n",
       "  <tbody>\n",
       "    <tr>\n",
       "      <th>2</th>\n",
       "      <td>16</td>\n",
       "      <td>2</td>\n",
       "      <td>101</td>\n",
       "    </tr>\n",
       "    <tr>\n",
       "      <th>1</th>\n",
       "      <td>12</td>\n",
       "      <td>1</td>\n",
       "      <td>102</td>\n",
       "    </tr>\n",
       "    <tr>\n",
       "      <th>0</th>\n",
       "      <td>11</td>\n",
       "      <td>1</td>\n",
       "      <td>105</td>\n",
       "    </tr>\n",
       "  </tbody>\n",
       "</table>\n",
       "</div>"
      ],
      "text/plain": [
       "   bundle_id  sex  age_group\n",
       "2         16    2        101\n",
       "1         12    1        102\n",
       "0         11    1        105"
      ]
     },
     "execution_count": 19,
     "metadata": {},
     "output_type": "execute_result"
    }
   ],
   "source": [
    "dfdf=pd.DataFrame(columns=['bundle_id', 'sex', 'age_group'],data=[[11,1,105],[12,1,102],[16,2,101]])\n",
    "dfdf\n",
    "\n",
    "dfdf=dfdf.sort_values('age_group')\n",
    "dfdf"
   ]
  },
  {
   "cell_type": "code",
   "execution_count": 20,
   "metadata": {},
   "outputs": [
    {
     "data": {
      "text/html": [
       "<div>\n",
       "<style scoped>\n",
       "    .dataframe tbody tr th:only-of-type {\n",
       "        vertical-align: middle;\n",
       "    }\n",
       "\n",
       "    .dataframe tbody tr th {\n",
       "        vertical-align: top;\n",
       "    }\n",
       "\n",
       "    .dataframe thead th {\n",
       "        text-align: right;\n",
       "    }\n",
       "</style>\n",
       "<table border=\"1\" class=\"dataframe\">\n",
       "  <thead>\n",
       "    <tr style=\"text-align: right;\">\n",
       "      <th></th>\n",
       "      <th>bundle_id</th>\n",
       "      <th>sex</th>\n",
       "      <th>age_group</th>\n",
       "      <th>measurement</th>\n",
       "      <th>enrol</th>\n",
       "      <th>indicator</th>\n",
       "    </tr>\n",
       "  </thead>\n",
       "  <tbody>\n",
       "  </tbody>\n",
       "</table>\n",
       "</div>"
      ],
      "text/plain": [
       "Empty DataFrame\n",
       "Columns: [bundle_id, sex, age_group, measurement, enrol, indicator]\n",
       "Index: []"
      ]
     },
     "execution_count": 20,
     "metadata": {},
     "output_type": "execute_result"
    }
   ],
   "source": [
    "dicttt[61]\n",
    "# 1, 27, 50, 61, 64, 78, 80, 82, 92"
   ]
  },
  {
   "cell_type": "code",
   "execution_count": 21,
   "metadata": {},
   "outputs": [
    {
     "data": {
      "text/plain": [
       "'0.23.4'"
      ]
     },
     "execution_count": 21,
     "metadata": {},
     "output_type": "execute_result"
    }
   ],
   "source": [
    "pd.__version__"
   ]
  },
  {
   "cell_type": "code",
   "execution_count": 22,
   "metadata": {},
   "outputs": [
    {
     "data": {
      "text/html": [
       "<div>\n",
       "<style scoped>\n",
       "    .dataframe tbody tr th:only-of-type {\n",
       "        vertical-align: middle;\n",
       "    }\n",
       "\n",
       "    .dataframe tbody tr th {\n",
       "        vertical-align: top;\n",
       "    }\n",
       "\n",
       "    .dataframe thead th {\n",
       "        text-align: right;\n",
       "    }\n",
       "</style>\n",
       "<table border=\"1\" class=\"dataframe\">\n",
       "  <thead>\n",
       "    <tr style=\"text-align: right;\">\n",
       "      <th></th>\n",
       "      <th>year</th>\n",
       "      <th>sex</th>\n",
       "      <th>age_ihmec</th>\n",
       "      <th>facility</th>\n",
       "      <th>unit</th>\n",
       "      <th>measurement</th>\n",
       "      <th>enrol</th>\n",
       "      <th>indicator</th>\n",
       "      <th>bundle_id</th>\n",
       "    </tr>\n",
       "  </thead>\n",
       "  <tbody>\n",
       "    <tr>\n",
       "      <th>987</th>\n",
       "      <td>2006</td>\n",
       "      <td>1</td>\n",
       "      <td>074</td>\n",
       "      <td>2</td>\n",
       "      <td>person</td>\n",
       "      <td>2</td>\n",
       "      <td>303653.0</td>\n",
       "      <td>0.000007</td>\n",
       "      <td>152</td>\n",
       "    </tr>\n",
       "    <tr>\n",
       "      <th>1955</th>\n",
       "      <td>2009</td>\n",
       "      <td>1</td>\n",
       "      <td>074</td>\n",
       "      <td>2</td>\n",
       "      <td>person</td>\n",
       "      <td>1</td>\n",
       "      <td>303653.0</td>\n",
       "      <td>0.000003</td>\n",
       "      <td>152</td>\n",
       "    </tr>\n",
       "    <tr>\n",
       "      <th>2435</th>\n",
       "      <td>2010</td>\n",
       "      <td>1</td>\n",
       "      <td>074</td>\n",
       "      <td>2</td>\n",
       "      <td>person</td>\n",
       "      <td>1</td>\n",
       "      <td>303653.0</td>\n",
       "      <td>0.000003</td>\n",
       "      <td>152</td>\n",
       "    </tr>\n",
       "    <tr>\n",
       "      <th>3708</th>\n",
       "      <td>2012</td>\n",
       "      <td>1</td>\n",
       "      <td>074</td>\n",
       "      <td>2</td>\n",
       "      <td>person</td>\n",
       "      <td>3</td>\n",
       "      <td>303653.0</td>\n",
       "      <td>0.000010</td>\n",
       "      <td>152</td>\n",
       "    </tr>\n",
       "    <tr>\n",
       "      <th>4603</th>\n",
       "      <td>2013</td>\n",
       "      <td>1</td>\n",
       "      <td>074</td>\n",
       "      <td>2</td>\n",
       "      <td>person</td>\n",
       "      <td>3</td>\n",
       "      <td>303653.0</td>\n",
       "      <td>0.000010</td>\n",
       "      <td>152</td>\n",
       "    </tr>\n",
       "    <tr>\n",
       "      <th>5723</th>\n",
       "      <td>2014</td>\n",
       "      <td>1</td>\n",
       "      <td>074</td>\n",
       "      <td>2</td>\n",
       "      <td>person</td>\n",
       "      <td>5</td>\n",
       "      <td>303653.0</td>\n",
       "      <td>0.000016</td>\n",
       "      <td>152</td>\n",
       "    </tr>\n",
       "    <tr>\n",
       "      <th>7720</th>\n",
       "      <td>2015</td>\n",
       "      <td>1</td>\n",
       "      <td>074</td>\n",
       "      <td>2</td>\n",
       "      <td>person</td>\n",
       "      <td>55</td>\n",
       "      <td>303653.0</td>\n",
       "      <td>0.000181</td>\n",
       "      <td>152</td>\n",
       "    </tr>\n",
       "    <tr>\n",
       "      <th>12668</th>\n",
       "      <td>2016</td>\n",
       "      <td>1</td>\n",
       "      <td>074</td>\n",
       "      <td>2</td>\n",
       "      <td>person</td>\n",
       "      <td>697</td>\n",
       "      <td>303653.0</td>\n",
       "      <td>0.002295</td>\n",
       "      <td>152</td>\n",
       "    </tr>\n",
       "  </tbody>\n",
       "</table>\n",
       "</div>"
      ],
      "text/plain": [
       "       year sex age_ihmec facility    unit  measurement     enrol  indicator  bundle_id\n",
       "987    2006   1       074        2  person            2  303653.0   0.000007        152\n",
       "1955   2009   1       074        2  person            1  303653.0   0.000003        152\n",
       "2435   2010   1       074        2  person            1  303653.0   0.000003        152\n",
       "3708   2012   1       074        2  person            3  303653.0   0.000010        152\n",
       "4603   2013   1       074        2  person            3  303653.0   0.000010        152\n",
       "5723   2014   1       074        2  person            5  303653.0   0.000016        152\n",
       "7720   2015   1       074        2  person           55  303653.0   0.000181        152\n",
       "12668  2016   1       074        2  person          697  303653.0   0.002295        152"
      ]
     },
     "execution_count": 22,
     "metadata": {},
     "output_type": "execute_result"
    }
   ],
   "source": [
    "temp=df.loc[(df['sex']=='1') & (df['bundle_id']==152) & (df['age_ihmec']=='074')]\n",
    "temp"
   ]
  },
  {
   "cell_type": "code",
   "execution_count": 23,
   "metadata": {},
   "outputs": [
    {
     "data": {
      "text/plain": [
       "0.0019463005470059574"
      ]
     },
     "execution_count": 23,
     "metadata": {},
     "output_type": "execute_result"
    }
   ],
   "source": [
    "1182/(303653+303653)"
   ]
  },
  {
   "cell_type": "code",
   "execution_count": 24,
   "metadata": {},
   "outputs": [
    {
     "data": {
      "text/plain": [
       "303653.0"
      ]
     },
     "execution_count": 24,
     "metadata": {},
     "output_type": "execute_result"
    }
   ],
   "source": [
    "list(temp.enrol)[0]"
   ]
  },
  {
   "cell_type": "code",
   "execution_count": 25,
   "metadata": {},
   "outputs": [
    {
     "data": {
      "text/plain": [
       "'/Users/cl58/Google_Drive/Data_Science_and_Programming/Udemy_python_plotly_dash/NTU_project_deployment/data'"
      ]
     },
     "execution_count": 25,
     "metadata": {},
     "output_type": "execute_result"
    }
   ],
   "source": [
    "pwd"
   ]
  },
  {
   "cell_type": "code",
   "execution_count": null,
   "metadata": {
    "collapsed": true
   },
   "outputs": [],
   "source": []
  }
 ],
 "metadata": {
  "kernelspec": {
   "display_name": "Python 3",
   "language": "python",
   "name": "python3"
  },
  "language_info": {
   "codemirror_mode": {
    "name": "ipython",
    "version": 3
   },
   "file_extension": ".py",
   "mimetype": "text/x-python",
   "name": "python",
   "nbconvert_exporter": "python",
   "pygments_lexer": "ipython3",
   "version": "3.6.5"
  }
 },
 "nbformat": 4,
 "nbformat_minor": 2
}
